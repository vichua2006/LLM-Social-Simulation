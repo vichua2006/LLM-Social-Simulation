{
 "cells": [
  {
   "cell_type": "code",
   "execution_count": 1,
   "metadata": {},
   "outputs": [
    {
     "data": {
      "text/html": [
       "<div>\n",
       "<style scoped>\n",
       "    .dataframe tbody tr th:only-of-type {\n",
       "        vertical-align: middle;\n",
       "    }\n",
       "\n",
       "    .dataframe tbody tr th {\n",
       "        vertical-align: top;\n",
       "    }\n",
       "\n",
       "    .dataframe thead th {\n",
       "        text-align: right;\n",
       "    }\n",
       "</style>\n",
       "<table border=\"1\" class=\"dataframe\">\n",
       "  <thead>\n",
       "    <tr style=\"text-align: right;\">\n",
       "      <th></th>\n",
       "      <th>history</th>\n",
       "      <th>individuals</th>\n",
       "      <th>land</th>\n",
       "      <th>&lt;Main.Individual.Individual object at 0x000001FDB3922B60&gt;</th>\n",
       "      <th>&lt;Main.Individual.Individual object at 0x000001FDB3922B30&gt;</th>\n",
       "      <th>&lt;Main.Individual.Individual object at 0x000001FDD5E3C490&gt;</th>\n",
       "      <th>&lt;Main.Individual.Individual object at 0x000001FDD5E3C6D0&gt;</th>\n",
       "      <th>&lt;Main.Individual.Individual object at 0x000001FDD5E3C910&gt;</th>\n",
       "      <th>time</th>\n",
       "      <th>is_stop</th>\n",
       "      <th>obey_frequence</th>\n",
       "    </tr>\n",
       "  </thead>\n",
       "  <tbody>\n",
       "    <tr>\n",
       "      <th>0</th>\n",
       "      <td>['person 0:i choose to rob person 1 because i ...</td>\n",
       "      <td>[&lt;Main.Individual.Individual object at 0x00000...</td>\n",
       "      <td>['land 0', 'land 1', 'land 2', 'land 3', 'land...</td>\n",
       "      <td>3</td>\n",
       "      <td>-3</td>\n",
       "      <td>2</td>\n",
       "      <td>2</td>\n",
       "      <td>-1</td>\n",
       "      <td>1</td>\n",
       "      <td>False</td>\n",
       "      <td>[]</td>\n",
       "    </tr>\n",
       "  </tbody>\n",
       "</table>\n",
       "</div>"
      ],
      "text/plain": [
       "                                             history  \\\n",
       "0  ['person 0:i choose to rob person 1 because i ...   \n",
       "\n",
       "                                         individuals  \\\n",
       "0  [<Main.Individual.Individual object at 0x00000...   \n",
       "\n",
       "                                                land  \\\n",
       "0  ['land 0', 'land 1', 'land 2', 'land 3', 'land...   \n",
       "\n",
       "   <Main.Individual.Individual object at 0x000001FDB3922B60>  \\\n",
       "0                                                  3           \n",
       "\n",
       "   <Main.Individual.Individual object at 0x000001FDB3922B30>  \\\n",
       "0                                                 -3           \n",
       "\n",
       "   <Main.Individual.Individual object at 0x000001FDD5E3C490>  \\\n",
       "0                                                  2           \n",
       "\n",
       "   <Main.Individual.Individual object at 0x000001FDD5E3C6D0>  \\\n",
       "0                                                  2           \n",
       "\n",
       "   <Main.Individual.Individual object at 0x000001FDD5E3C910>  time  is_stop  \\\n",
       "0                                                 -1             1    False   \n",
       "\n",
       "  obey_frequence  \n",
       "0             []  "
      ]
     },
     "execution_count": 1,
     "metadata": {},
     "output_type": "execute_result"
    }
   ],
   "source": [
    "import pandas as pd\n",
    "\n",
    "pd.read_csv(\"D:\\StudyLife\\Github\\LLM-Social-Simulation\\Log\\September 08, 08 26PM , 2023Experimentlog.csv\")\n",
    "\n"
   ]
  }
 ],
 "metadata": {
  "kernelspec": {
   "display_name": "Python 3.10.6 64-bit",
   "language": "python",
   "name": "python3"
  },
  "language_info": {
   "codemirror_mode": {
    "name": "ipython",
    "version": 3
   },
   "file_extension": ".py",
   "mimetype": "text/x-python",
   "name": "python",
   "nbconvert_exporter": "python",
   "pygments_lexer": "ipython3",
   "version": "3.10.11"
  },
  "orig_nbformat": 4,
  "vscode": {
   "interpreter": {
    "hash": "aee8b7b246df8f9039afb4144a1f6fd8d2ca17a180786b69acc140d282b71a49"
   }
  }
 },
 "nbformat": 4,
 "nbformat_minor": 2
}
